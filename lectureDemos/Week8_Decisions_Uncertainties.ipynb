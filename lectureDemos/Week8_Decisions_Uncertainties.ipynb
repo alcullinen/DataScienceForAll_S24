{
 "cells": [
  {
   "cell_type": "code",
   "execution_count": null,
   "metadata": {},
   "outputs": [],
   "source": [
    "from datascience import *\n",
    "import numpy as np\n",
    "\n",
    "%matplotlib inline\n",
    "import matplotlib.pyplot as plots\n",
    "plots.style.use('fivethirtyeight')"
   ]
  },
  {
   "cell_type": "markdown",
   "metadata": {},
   "source": [
    "## The GSI's Defense ##"
   ]
  },
  {
   "cell_type": "code",
   "execution_count": null,
   "metadata": {},
   "outputs": [],
   "source": [
    "scores = Table.read_table('scores_by_section.csv')\n",
    "scores"
   ]
  },
  {
   "cell_type": "code",
   "execution_count": null,
   "metadata": {},
   "outputs": [],
   "source": [
    "#Let's look at the number of students in each section using group\n",
    "scores.group('Section')"
   ]
  },
  {
   "cell_type": "code",
   "execution_count": null,
   "metadata": {},
   "outputs": [],
   "source": [
    "#How could we look at the average midterm grade in each section?\n",
    "scores.group('Section', np.average)"
   ]
  },
  {
   "cell_type": "code",
   "execution_count": null,
   "metadata": {},
   "outputs": [],
   "source": [
    "#What is the observed average for section 3\n",
    "observed_average = 13.6667"
   ]
  },
  {
   "cell_type": "code",
   "execution_count": null,
   "metadata": {},
   "outputs": [],
   "source": [
    "#null hypothese: let's assume that the sections were picked at random (27 students at random)\n",
    "#Can we simulate 1 sample of 27 students drawn at random?\n",
    "#Which table method should we use? with or without replacement?\n",
    "sample_section = scores.sample(27, with_replacement = False)\n",
    "sample_avg = np.average(sample_section.column('Midterm'))\n",
    "sample_avg"
   ]
  },
  {
   "cell_type": "code",
   "execution_count": null,
   "metadata": {},
   "outputs": [],
   "source": [
    "#What is the average grade of this one sample?\n"
   ]
  },
  {
   "cell_type": "code",
   "execution_count": null,
   "metadata": {},
   "outputs": [],
   "source": [
    "# Now we are ready to simulate one value of the test statistic \n",
    "# under the hypothesis that the section is like a random sample from the class\n",
    "# what would be a good test statistic?\n",
    "def sample_average(tbl, sampleSize, columnName):\n",
    "    sample_section = tbl.sample(sampleSize, with_replacement = False)\n",
    "    sample_avg = np.average(sample_section.column(columnName))\n",
    "    return sample_avg\n",
    "sample_average(scores, 27, 'Midterm')"
   ]
  },
  {
   "cell_type": "code",
   "execution_count": null,
   "metadata": {},
   "outputs": [],
   "source": [
    "# TODO: Now let's Simulate 50,000 copies of the test statistic\n",
    "averages = make_array()\n",
    "for i in np.arange(50000):\n",
    "    next_average = sample_average(scores, 27, 'Midterm')\n",
    "    averages = np.append(averages, next_average)\n",
    "averages   "
   ]
  },
  {
   "cell_type": "code",
   "execution_count": null,
   "metadata": {},
   "outputs": [],
   "source": [
    "# Compare the simulated distribution of the statistic\n",
    "# and the actual observed statistic\n",
    "scores_avg = Table().with_column('Average', averages)\n",
    "scores_avg.hist()\n",
    "plots.scatter(observed_average, 0, color = 'red', s=40);"
   ]
  },
  {
   "cell_type": "code",
   "execution_count": null,
   "metadata": {},
   "outputs": [],
   "source": [
    "# How can we answer: How certain are we of our decision?\n",
    "# One way: look at the area (aka %) of the simulation that would favor the alternative\n",
    "# In other words: what percent of the repetitions in this simulations were less than\n",
    "# or equal to the observed average\n",
    "100*(np.count_nonzero(scores_avg.column('Average') < observed_average)/50000)\n"
   ]
  },
  {
   "cell_type": "code",
   "execution_count": null,
   "metadata": {},
   "outputs": [],
   "source": [
    "#let's look at the convention (see slides)"
   ]
  },
  {
   "cell_type": "code",
   "execution_count": null,
   "metadata": {},
   "outputs": [],
   "source": [
    "# Where is the 5% cutoff when running 50,000 repetitions?\n",
    "five_percent_point = scores_avg.sort(0).column(0).item(2499)\n",
    "five_percent_point"
   ]
  },
  {
   "cell_type": "code",
   "execution_count": null,
   "metadata": {},
   "outputs": [],
   "source": [
    "# Where is the 1% cutoff when running 50,000 repetitions?\n",
    "one_percent_point = scores_avg.sort(0).column(0).item(499)\n",
    "one_percent_point"
   ]
  },
  {
   "cell_type": "code",
   "execution_count": null,
   "metadata": {},
   "outputs": [],
   "source": [
    "#TLet's visualize as a histogram\n",
    "scores_avg.hist(bins = np.arange(12,20,0.5))\n",
    "#plots.plot([five_percent_point, five_percent_point], [0, 0.35], color='gold', lw=2)\n",
    "plots.plot([one_percent_point, one_percent_point], [0, 0.35], color='gold', lw=2)\n",
    "plots.title('Area to the left of the gold line: 1%');\n",
    "plots.scatter(observed_average, 0, color = 'red', s=40);"
   ]
  },
  {
   "cell_type": "code",
   "execution_count": null,
   "metadata": {},
   "outputs": [],
   "source": []
  }
 ],
 "metadata": {
  "anaconda-cloud": {},
  "kernelspec": {
   "display_name": "Python 3 (ipykernel)",
   "language": "python",
   "name": "python3"
  },
  "language_info": {
   "codemirror_mode": {
    "name": "ipython",
    "version": 3
   },
   "file_extension": ".py",
   "mimetype": "text/x-python",
   "name": "python",
   "nbconvert_exporter": "python",
   "pygments_lexer": "ipython3",
   "version": "3.7.8"
  }
 },
 "nbformat": 4,
 "nbformat_minor": 1
}
